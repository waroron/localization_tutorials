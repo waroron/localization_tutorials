{
 "cells": [
  {
   "cell_type": "code",
   "execution_count": 1,
   "id": "6836381c-8f1e-4a05-ba1a-0edd979d90f8",
   "metadata": {
    "tags": []
   },
   "outputs": [],
   "source": [
    "import gtsam\n",
    "import numpy as np\n",
    "import os\n",
    "from glob import glob"
   ]
  },
  {
   "cell_type": "code",
   "execution_count": 2,
   "id": "f90d25cf-d57f-4ad0-ab08-993288ce98b3",
   "metadata": {
    "tags": []
   },
   "outputs": [
    {
     "name": "stdout",
     "output_type": "stream",
     "text": [
      "found 22 pose files\n"
     ]
    }
   ],
   "source": [
    "# Load KITTI data\n",
    "data_dir = \"/home/yukiya/data/kitti/kitti-odometry/dataset/poses\"\n",
    "poses_file = glob(f\"{data_dir}/*.txt\")\n",
    "print(f\"found {len(poses_file)} pose files\")"
   ]
  },
  {
   "cell_type": "markdown",
   "id": "4b334e6b-723d-4749-ac5a-b517af4be6d0",
   "metadata": {
    "jp-MarkdownHeadingCollapsed": true,
    "tags": []
   },
   "source": [
    "## factor graphによる"
   ]
  },
  {
   "cell_type": "code",
   "execution_count": 31,
   "id": "c0af8530-c41c-4ba6-a445-018aa5e7f6fd",
   "metadata": {
    "tags": []
   },
   "outputs": [
    {
     "ename": "RuntimeError",
     "evalue": "Attempting to at the key \"1\", which does not exist in the Values.",
     "output_type": "error",
     "traceback": [
      "\u001b[0;31m---------------------------------------------------------------------------\u001b[0m",
      "\u001b[0;31mRuntimeError\u001b[0m                              Traceback (most recent call last)",
      "Cell \u001b[0;32mIn[31], line 25\u001b[0m\n\u001b[1;32m     23\u001b[0m initial\u001b[38;5;241m.\u001b[39minsert(\u001b[38;5;241m0\u001b[39m, gtsam\u001b[38;5;241m.\u001b[39mPose3())\n\u001b[1;32m     24\u001b[0m params \u001b[38;5;241m=\u001b[39m gtsam\u001b[38;5;241m.\u001b[39mLevenbergMarquardtParams()\n\u001b[0;32m---> 25\u001b[0m optimizer \u001b[38;5;241m=\u001b[39m \u001b[43mgtsam\u001b[49m\u001b[38;5;241;43m.\u001b[39;49m\u001b[43mLevenbergMarquardtOptimizer\u001b[49m\u001b[43m(\u001b[49m\u001b[43mgraph\u001b[49m\u001b[43m,\u001b[49m\u001b[43m \u001b[49m\u001b[43minitial\u001b[49m\u001b[43m,\u001b[49m\u001b[43m \u001b[49m\u001b[43mparams\u001b[49m\u001b[43m)\u001b[49m\n\u001b[1;32m     26\u001b[0m result \u001b[38;5;241m=\u001b[39m optimizer\u001b[38;5;241m.\u001b[39moptimize()\n\u001b[1;32m     28\u001b[0m \u001b[38;5;66;03m# Print optimized poses\u001b[39;00m\n",
      "\u001b[0;31mRuntimeError\u001b[0m: Attempting to at the key \"1\", which does not exist in the Values."
     ]
    }
   ],
   "source": [
    "idx = 0\n",
    "poses = np.loadtxt(poses_file[idx])\n",
    "\n",
    "# Create factor graph\n",
    "graph = gtsam.NonlinearFactorGraph()\n",
    "\n",
    "# Create prior factor\n",
    "prior_mean = gtsam.Pose3()\n",
    "prior_noise = gtsam.noiseModel.Diagonal.Sigmas(np.array([0.1, 0.1, 0.1, 0.1, 0.1, 0.1]))\n",
    "prior_factor = gtsam.PriorFactorPose3(0, prior_mean, prior_noise)\n",
    "graph.add(prior_factor)\n",
    "\n",
    "# Create odometry factors\n",
    "odometry_noise = gtsam.noiseModel.Diagonal.Sigmas(np.array([0.2, 0.2, 0.2, 0.1, 0.1, 0.1]))\n",
    "for i in range(1, len(poses)):\n",
    "    T_i = gtsam.Pose3(gtsam.Rot3(poses[i-1, :9].reshape(3, 3)), gtsam.Point3(poses[i-1, 9:]))\n",
    "    T_j = gtsam.Pose3(gtsam.Rot3(poses[i, :9].reshape(3, 3)), gtsam.Point3(poses[i, 9:]))\n",
    "    odometry_factor = gtsam.BetweenFactorPose3(i - 1, i, T_i.between(T_j), odometry_noise)\n",
    "    graph.add(odometry_factor)\n",
    "\n",
    "# Create optimizer and optimize graph\n",
    "initial = gtsam.Values()\n",
    "initial.insert(0, gtsam.Pose3())\n",
    "params = gtsam.LevenbergMarquardtParams()\n",
    "optimizer = gtsam.LevenbergMarquardtOptimizer(graph, initial, params)\n",
    "result = optimizer.optimize()\n",
    "\n",
    "# Print optimized poses\n",
    "for i in range(len(poses)):\n",
    "    print(\"Pose {}: {}\".format(i, result.atPose3(i)))"
   ]
  },
  {
   "cell_type": "markdown",
   "id": "51b5f42e-dca1-4341-a92a-9c7eb9468582",
   "metadata": {},
   "source": [
    "## カルマンフィルタ"
   ]
  },
  {
   "cell_type": "code",
   "execution_count": 3,
   "id": "48632be1-83ca-4d71-8263-40f9f972d946",
   "metadata": {
    "tags": []
   },
   "outputs": [],
   "source": [
    "idx = 0\n",
    "poses = np.loadtxt(poses_file[idx])\n"
   ]
  },
  {
   "cell_type": "code",
   "execution_count": 5,
   "id": "d8f1250b-3736-43c0-9c9a-dff8f30dc427",
   "metadata": {
    "tags": []
   },
   "outputs": [
    {
     "data": {
      "text/plain": [
       "(3281, 12)"
      ]
     },
     "execution_count": 5,
     "metadata": {},
     "output_type": "execute_result"
    }
   ],
   "source": [
    "poses.shape"
   ]
  },
  {
   "cell_type": "code",
   "execution_count": 6,
   "id": "cd03b620-734d-4acb-9c7f-5049657c8c7e",
   "metadata": {},
   "outputs": [],
   "source": [
    "import numpy as np\n",
    "from scipy.linalg import block_diag\n",
    "from filterpy.kalman import KalmanFilter\n",
    "\n",
    "# Load KITTI data\n",
    "# ...\n",
    "\n",
    "# Set initial state\n",
    "x = np.array([0., 0., 0., 0., 0., 0.])\n",
    "P = np.diag([1., 1., 1., 1., 1., 1.])\n",
    "Q = np.diag([0.1, 0.1, 0.1, 0.1, 0.1, 0.1])\n",
    "R = np.diag([0.1, 0.1, 0.1])\n",
    "dt = 0.1\n",
    "\n",
    "# Create Kalman filter\n",
    "kf = KalmanFilter(dim_x=6, dim_z=3)\n",
    "kf.x = x\n",
    "kf.P = P\n",
    "kf.Q = Q\n",
    "kf.R = R\n",
    "kf.F = np.array([[1., 0., 0., dt, 0., 0.],\n",
    "                 [0., 1., 0., 0., dt, 0.],\n",
    "                 [0., 0., 1., 0., 0., dt],\n",
    "                 [0., 0., 0., 1., 0., 0.],\n",
    "                 [0., 0., 0., 0., 1., 0.],\n",
    "                 [0., 0., 0., 0., 0., 1.]])\n",
    "kf.H = np.array([[1., 0., 0., 0., 0., 0.],\n",
    "                 [0., 1., 0., 0., 0., 0.],\n",
    "                 [0., 0., 1., 0., 0., 0.]])\n",
    "kf.B = np.zeros((6, 3))\n",
    "kf.u = np.zeros((3,))\n",
    "kf.M = np.zeros((6, 6))\n",
    "kf.M[:3, :3] = np.diag([0.1, 0.1, 0.1])\n",
    "kf.M[3:, 3:] = np.diag([0.1, 0.1, 0.1])\n",
    "\n",
    "# Run Kalman filter\n",
    "for i in range(len(poses)):\n",
    "    z = poses[i, 9:]\n",
    "    kf.predict()\n",
    "    kf.update(z)\n",
    "\n",
    "# Output results\n",
    "# ..."
   ]
  },
  {
   "cell_type": "code",
   "execution_count": 10,
   "id": "ddc02611-46f1-4c11-9dca-8dacc0862927",
   "metadata": {
    "tags": []
   },
   "outputs": [
    {
     "data": {
      "text/plain": [
       "(6, 6)"
      ]
     },
     "execution_count": 10,
     "metadata": {},
     "output_type": "execute_result"
    }
   ],
   "source": [
    "kf.P.shape"
   ]
  },
  {
   "cell_type": "code",
   "execution_count": 7,
   "id": "6e4d4547-756d-42b4-a651-8b94dea4cf3d",
   "metadata": {
    "tags": []
   },
   "outputs": [
    {
     "data": {
      "text/plain": [
       "KalmanFilter object\n",
       "dim_x = 6\n",
       "dim_z = 3\n",
       "dim_u = 0\n",
       "x = [ 6.15673268e-03  1.00000567e+00  9.00034155e+01 -3.09802388e-03\n",
       "      8.17954726e-04  9.58371239e+00]\n",
       "P = [[0.06529751 0.         0.         0.05890882 0.         0.        ]\n",
       "     [0.         0.06529751 0.         0.         0.05890882 0.        ]\n",
       "     [0.         0.         0.06529751 0.         0.         0.05890882]\n",
       "     [0.05890882 0.         0.         1.10845058 0.         0.        ]\n",
       "     [0.         0.05890882 0.         0.         1.10845058 0.        ]\n",
       "     [0.         0.         0.05890882 0.         0.         1.10845058]]\n",
       "x_prior = [ 5.61379113e-03  1.00005772e+00  9.01594325e+01 -3.58784414e-03\n",
       "            8.64917969e-04  9.72446471e+00]\n",
       "P_prior = [[0.18816378 0.         0.         0.16975388 0.         0.        ]\n",
       "           [0.         0.18816378 0.         0.         0.16975388 0.        ]\n",
       "           [0.         0.         0.18816378 0.         0.         0.16975388]\n",
       "           [0.16975388 0.         0.         1.20845058 0.         0.        ]\n",
       "           [0.         0.16975388 0.         0.         1.20845058 0.        ]\n",
       "           [0.         0.         0.16975388 0.         0.         1.20845058]]\n",
       "x_post = [ 6.15673268e-03  1.00000567e+00  9.00034155e+01 -3.09802388e-03\n",
       "           8.17954726e-04  9.58371239e+00]\n",
       "P_post = [[0.06529751 0.         0.         0.05890882 0.         0.        ]\n",
       "          [0.         0.06529751 0.         0.         0.05890882 0.        ]\n",
       "          [0.         0.         0.06529751 0.         0.         0.05890882]\n",
       "          [0.05890882 0.         0.         1.10845058 0.         0.        ]\n",
       "          [0.         0.05890882 0.         0.         1.10845058 0.        ]\n",
       "          [0.         0.         0.05890882 0.         0.         1.10845058]]\n",
       "F = [[1.  0.  0.  0.1 0.  0. ]\n",
       "     [0.  1.  0.  0.  0.1 0. ]\n",
       "     [0.  0.  1.  0.  0.  0.1]\n",
       "     [0.  0.  0.  1.  0.  0. ]\n",
       "     [0.  0.  0.  0.  1.  0. ]\n",
       "     [0.  0.  0.  0.  0.  1. ]]\n",
       "Q = [[0.1 0.  0.  0.  0.  0. ]\n",
       "     [0.  0.1 0.  0.  0.  0. ]\n",
       "     [0.  0.  0.1 0.  0.  0. ]\n",
       "     [0.  0.  0.  0.1 0.  0. ]\n",
       "     [0.  0.  0.  0.  0.1 0. ]\n",
       "     [0.  0.  0.  0.  0.  0.1]]\n",
       "R = [[0.1 0.  0. ]\n",
       "     [0.  0.1 0. ]\n",
       "     [0.  0.  0.1]]\n",
       "H = [[1. 0. 0. 0. 0. 0.]\n",
       "     [0. 1. 0. 0. 0. 0.]\n",
       "     [0. 0. 1. 0. 0. 0.]]\n",
       "K = [[0.65297513 0.         0.        ]\n",
       "     [0.         0.65297513 0.        ]\n",
       "     [0.         0.         0.65297513]\n",
       "     [0.58908817 0.         0.        ]\n",
       "     [0.         0.58908817 0.        ]\n",
       "     [0.         0.         0.58908817]]\n",
       "y = [ 8.31488873e-04 -7.97219252e-05 -2.38932510e-01]\n",
       "S = [[0.28816378 0.         0.        ]\n",
       "     [0.         0.28816378 0.        ]\n",
       "     [0.         0.         0.28816378]]\n",
       "SI = [[3.47024874 0.         0.        ]\n",
       "      [0.         3.47024874 0.        ]\n",
       "      [0.         0.         3.47024874]]\n",
       "M = [[0.1 0.  0.  0.  0.  0. ]\n",
       "     [0.  0.1 0.  0.  0.  0. ]\n",
       "     [0.  0.  0.1 0.  0.  0. ]\n",
       "     [0.  0.  0.  0.1 0.  0. ]\n",
       "     [0.  0.  0.  0.  0.1 0. ]\n",
       "     [0.  0.  0.  0.  0.  0.1]]\n",
       "B = [[0. 0. 0.]\n",
       "     [0. 0. 0.]\n",
       "     [0. 0. 0.]\n",
       "     [0. 0. 0.]\n",
       "     [0. 0. 0.]\n",
       "     [0. 0. 0.]]\n",
       "z = [6.44528e-03 9.99978e-01 8.99205e+01]\n",
       "log-likelihood = -0.9895334714010583\n",
       "likelihood = 0.3717500826180319\n",
       "mahalanobis = 0.44510062208563494\n",
       "alpha = 1.0\n",
       "inv = <function inv at 0x7f8e0c11ec10>"
      ]
     },
     "execution_count": 7,
     "metadata": {},
     "output_type": "execute_result"
    }
   ],
   "source": [
    "# Run the Kalman filter and store the results\n",
    "filtered_state_means = []\n",
    "filtered_state_covariances = []\n",
    "for z in measurements:\n",
    "    kf.predict()\n",
    "    kf.update(z)\n",
    "    filtered_state_means.append(kf.x)\n",
    "    filtered_state_covariances.append(kf.P)\n",
    "\n",
    "# Convert the results to numpy arrays\n",
    "filtered_state_means = np.array(filtered_state_means)\n",
    "filtered_state_covariances = np.array(filtered_state_covariances)\n",
    "\n",
    "# Plot the results\n",
    "plt.figure()\n",
    "plt.plot(measurements, 'k+', label='Measurements')\n",
    "plt.plot(filtered_state_means[:, 0], label='Filtered position')\n",
    "plt.legend()\n",
    "plt.xlabel('Time')\n",
    "plt.ylabel('Position')\n",
    "plt.show()"
   ]
  }
 ],
 "metadata": {
  "kernelspec": {
   "display_name": "loc",
   "language": "python",
   "name": "loc"
  },
  "language_info": {
   "codemirror_mode": {
    "name": "ipython",
    "version": 3
   },
   "file_extension": ".py",
   "mimetype": "text/x-python",
   "name": "python",
   "nbconvert_exporter": "python",
   "pygments_lexer": "ipython3",
   "version": "3.8.16"
  }
 },
 "nbformat": 4,
 "nbformat_minor": 5
}
